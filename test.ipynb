{
 "cells": [
  {
   "cell_type": "code",
   "execution_count": 16,
   "source": [
    "import json"
   ],
   "outputs": [],
   "metadata": {}
  },
  {
   "cell_type": "code",
   "execution_count": 17,
   "source": [
    "file = open('info.json','r')\r\n",
    "info = json.load(file)"
   ],
   "outputs": [],
   "metadata": {}
  },
  {
   "cell_type": "code",
   "execution_count": 18,
   "source": [
    "# info['CHANNEL_ACCESS_TOKEN']"
   ],
   "outputs": [],
   "metadata": {}
  },
  {
   "cell_type": "code",
   "execution_count": 19,
   "source": [
    "from linebot import LineBotApi\r\n",
    "from linebot.models import TextSendMessage"
   ],
   "outputs": [],
   "metadata": {}
  },
  {
   "cell_type": "code",
   "execution_count": 20,
   "source": [
    "CHANNEL_ACCESS_TOKEN = info['CHANNEL_ACCESS_TOKEN']\r\n",
    "line_bot_api = LineBotApi(CHANNEL_ACCESS_TOKEN)"
   ],
   "outputs": [],
   "metadata": {}
  },
  {
   "cell_type": "code",
   "execution_count": 24,
   "source": [
    "def main():\r\n",
    "    USER_ID = info['USER_ID']\r\n",
    "    messages = TextSendMessage(text = 'おはよ！\\n今日も一日頑張ってね！\\n大好き！！\\n美波より♡')\r\n",
    "    line_bot_api.push_message(USER_ID, messages = messages)\r\n",
    "\r\n",
    "if __name__ == '__main__' :\r\n",
    "    main()"
   ],
   "outputs": [],
   "metadata": {}
  },
  {
   "cell_type": "code",
   "execution_count": null,
   "source": [],
   "outputs": [],
   "metadata": {}
  },
  {
   "cell_type": "code",
   "execution_count": null,
   "source": [],
   "outputs": [],
   "metadata": {}
  }
 ],
 "metadata": {
  "orig_nbformat": 4,
  "language_info": {
   "name": "python",
   "version": "3.8.8",
   "mimetype": "text/x-python",
   "codemirror_mode": {
    "name": "ipython",
    "version": 3
   },
   "pygments_lexer": "ipython3",
   "nbconvert_exporter": "python",
   "file_extension": ".py"
  },
  "kernelspec": {
   "name": "python3",
   "display_name": "Python 3.8.8 64-bit ('base': conda)"
  },
  "interpreter": {
   "hash": "5b2361c3cce048d2ae8da088699c88f0e22130d4a8095fee74f90988db99b794"
  }
 },
 "nbformat": 4,
 "nbformat_minor": 2
}